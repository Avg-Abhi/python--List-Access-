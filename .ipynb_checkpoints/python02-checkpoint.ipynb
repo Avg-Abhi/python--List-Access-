{
 "cells": [
  {
   "cell_type": "code",
   "execution_count": 1,
   "id": "cdb99e92",
   "metadata": {},
   "outputs": [
    {
     "name": "stdout",
     "output_type": "stream",
     "text": [
      "Hi Abhishek\n"
     ]
    }
   ],
   "source": [
    "print(\"Hi Abhishek\")"
   ]
  },
  {
   "cell_type": "code",
   "execution_count": 6,
   "id": "d7d71906",
   "metadata": {},
   "outputs": [
    {
     "name": "stdout",
     "output_type": "stream",
     "text": [
      "['Abhishek', 58, True, True, 33.5]\n",
      "5\n",
      "<class 'list'>\n"
     ]
    }
   ],
   "source": [
    "'''List is builtin dataType used to store collection of data\n",
    "items are Ordered , changeable and allow Duplicate values\n",
    "Enclosed within [any data Type()]'''\n",
    "#for example\n",
    "myList=[\"Abhishek\",58,True,True,33.5]\n",
    "print(myList)\n",
    "print(len(myList))\n",
    "print(type(myList))"
   ]
  },
  {
   "cell_type": "code",
   "execution_count": 4,
   "id": "80b3ab7b",
   "metadata": {},
   "outputs": [
    {
     "name": "stdout",
     "output_type": "stream",
     "text": [
      "True\n"
     ]
    }
   ],
   "source": [
    "'''As Lists are changable, Lets start playing with it'''\n",
    "#Lists are Indexed [0,1,2...]\n",
    "#I need 3 rd item of 'myList'\n",
    "myList=[\"Abhishek\",58,True,True,33.5]\n",
    "print(myList[2])\n",
    "# 3 rd element= 0,1,(2) index\n",
    "\n"
   ]
  },
  {
   "cell_type": "code",
   "execution_count": 5,
   "id": "fc9e9ff0",
   "metadata": {},
   "outputs": [
    {
     "name": "stdout",
     "output_type": "stream",
     "text": [
      "33.5\n"
     ]
    }
   ],
   "source": [
    "#Negative Indexing\n",
    "#I need 5th element of 'myList'\n",
    "myList=[\"Abhishek\",58,True,True,33.5]\n",
    "print(myList[-1])\n",
    "#From Left to Right Index starts From '0'\n",
    "#From Right to Left Index starts From '-1'"
   ]
  },
  {
   "cell_type": "code",
   "execution_count": 8,
   "id": "243a2754",
   "metadata": {},
   "outputs": [
    {
     "name": "stdout",
     "output_type": "stream",
     "text": [
      "[True, True, 33.5]\n",
      "['Abhishek', 58, True, True]\n",
      "['Abhishek', 58, True, True, 33.5]\n",
      "['Abhishek', 58, True, True, 33.5]\n"
     ]
    }
   ],
   "source": [
    "#Ranges of Index\n",
    "myList=[\"Abhishek\",58,True,True,33.5]\n",
    "print(myList[2:5])\n",
    "#Include index 2 to index 4,excluding index 5\n",
    "print(myList[:4])\n",
    "#From index 0 to index 4,excluding index 5\n",
    "print(myList[0:])\n",
    "#From index 0 to last index\n",
    "print(myList[-5:])\n",
    "#From index -5 to -1\n"
   ]
  },
  {
   "cell_type": "code",
   "execution_count": 18,
   "id": "3057e72e",
   "metadata": {},
   "outputs": [
    {
     "name": "stdout",
     "output_type": "stream",
     "text": [
      "33.5 is Present\n"
     ]
    }
   ],
   "source": [
    "#I want to know if 33.5 is a element of 'myList' or not\n",
    "myList=[\"Abhishek\",58,True,True,33.5]\n",
    "if 33.5 in myList:\n",
    "    print(\"33.5 is Present\")"
   ]
  },
  {
   "cell_type": "code",
   "execution_count": null,
   "id": "d358c597",
   "metadata": {},
   "outputs": [],
   "source": []
  },
  {
   "cell_type": "code",
   "execution_count": null,
   "id": "a3d562eb",
   "metadata": {},
   "outputs": [],
   "source": []
  }
 ],
 "metadata": {
  "kernelspec": {
   "display_name": "Python 3 (ipykernel)",
   "language": "python",
   "name": "python3"
  },
  "language_info": {
   "codemirror_mode": {
    "name": "ipython",
    "version": 3
   },
   "file_extension": ".py",
   "mimetype": "text/x-python",
   "name": "python",
   "nbconvert_exporter": "python",
   "pygments_lexer": "ipython3",
   "version": "3.9.12"
  }
 },
 "nbformat": 4,
 "nbformat_minor": 5
}
